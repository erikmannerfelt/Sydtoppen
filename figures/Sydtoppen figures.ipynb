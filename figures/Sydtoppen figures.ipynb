{
 "cells": [
  {
   "cell_type": "markdown",
   "metadata": {},
   "source": [
    "# Import statements"
   ]
  },
  {
   "cell_type": "code",
   "execution_count": 2,
   "metadata": {},
   "outputs": [],
   "source": [
    "import pandas as pd\n",
    "import matplotlib.pyplot as plt\n",
    "import seaborn as sns\n",
    "import numpy as np\n",
    "from scipy.stats import norm\n",
    "\n",
    "%matplotlib inline\n",
    "%config InlineBackend.print_figure_kwargs={'bbox_inches':None}\n",
    "\n",
    "#from matplotlib import rc\n",
    "#rc(\"text\", usetex=True)\n",
    "\n",
    "plt.rcParams['figure.dpi'] = 150"
   ]
  },
  {
   "cell_type": "code",
   "execution_count": 3,
   "metadata": {},
   "outputs": [],
   "source": [
    "def savefig(name, save_tag=\"180302\", save=False):\n",
    "    filename = f\"{name}_{save_tag}.png\"\n",
    "    plt.savefig(f\"export/{filename}\", dpi=300)\n",
    "    print(f\"Saved {filename}\")"
   ]
  },
  {
   "cell_type": "markdown",
   "metadata": {},
   "source": [
    "# 1 Error assessment"
   ]
  },
  {
   "cell_type": "code",
   "execution_count": 4,
   "metadata": {},
   "outputs": [
    {
     "data": {
      "text/html": [
       "<div>\n",
       "<style scoped>\n",
       "    .dataframe tbody tr th:only-of-type {\n",
       "        vertical-align: middle;\n",
       "    }\n",
       "\n",
       "    .dataframe tbody tr th {\n",
       "        vertical-align: top;\n",
       "    }\n",
       "\n",
       "    .dataframe thead th {\n",
       "        text-align: right;\n",
       "    }\n",
       "</style>\n",
       "<table border=\"1\" class=\"dataframe\">\n",
       "  <thead>\n",
       "    <tr style=\"text-align: right;\">\n",
       "      <th></th>\n",
       "      <th>x</th>\n",
       "      <th>y</th>\n",
       "      <th>z</th>\n",
       "      <th>m3c2</th>\n",
       "      <th>r</th>\n",
       "      <th>g</th>\n",
       "      <th>b</th>\n",
       "      <th>nx</th>\n",
       "      <th>ny</th>\n",
       "      <th>nz</th>\n",
       "    </tr>\n",
       "  </thead>\n",
       "  <tbody>\n",
       "    <tr>\n",
       "      <th>0</th>\n",
       "      <td>47473.063</td>\n",
       "      <td>35890.137</td>\n",
       "      <td>2053.672</td>\n",
       "      <td>-0.167</td>\n",
       "      <td>84</td>\n",
       "      <td>68</td>\n",
       "      <td>59</td>\n",
       "      <td>0.046542</td>\n",
       "      <td>-0.063860</td>\n",
       "      <td>0.996873</td>\n",
       "    </tr>\n",
       "    <tr>\n",
       "      <th>1</th>\n",
       "      <td>47467.801</td>\n",
       "      <td>35893.863</td>\n",
       "      <td>2053.564</td>\n",
       "      <td>-0.226</td>\n",
       "      <td>73</td>\n",
       "      <td>58</td>\n",
       "      <td>47</td>\n",
       "      <td>-0.102179</td>\n",
       "      <td>-0.029665</td>\n",
       "      <td>0.994324</td>\n",
       "    </tr>\n",
       "    <tr>\n",
       "      <th>2</th>\n",
       "      <td>47475.223</td>\n",
       "      <td>35888.848</td>\n",
       "      <td>2053.837</td>\n",
       "      <td>-0.246</td>\n",
       "      <td>79</td>\n",
       "      <td>62</td>\n",
       "      <td>49</td>\n",
       "      <td>0.108021</td>\n",
       "      <td>-0.016367</td>\n",
       "      <td>0.994014</td>\n",
       "    </tr>\n",
       "    <tr>\n",
       "      <th>3</th>\n",
       "      <td>47471.531</td>\n",
       "      <td>35892.660</td>\n",
       "      <td>2053.495</td>\n",
       "      <td>-0.139</td>\n",
       "      <td>77</td>\n",
       "      <td>59</td>\n",
       "      <td>46</td>\n",
       "      <td>-0.120473</td>\n",
       "      <td>-0.039407</td>\n",
       "      <td>0.991934</td>\n",
       "    </tr>\n",
       "    <tr>\n",
       "      <th>4</th>\n",
       "      <td>47475.027</td>\n",
       "      <td>35889.410</td>\n",
       "      <td>2053.871</td>\n",
       "      <td>-0.247</td>\n",
       "      <td>84</td>\n",
       "      <td>66</td>\n",
       "      <td>52</td>\n",
       "      <td>-0.020780</td>\n",
       "      <td>0.106085</td>\n",
       "      <td>0.994140</td>\n",
       "    </tr>\n",
       "  </tbody>\n",
       "</table>\n",
       "</div>"
      ],
      "text/plain": [
       "           x          y         z   m3c2   r   g   b        nx        ny  \\\n",
       "0  47473.063  35890.137  2053.672 -0.167  84  68  59  0.046542 -0.063860   \n",
       "1  47467.801  35893.863  2053.564 -0.226  73  58  47 -0.102179 -0.029665   \n",
       "2  47475.223  35888.848  2053.837 -0.246  79  62  49  0.108021 -0.016367   \n",
       "3  47471.531  35892.660  2053.495 -0.139  77  59  46 -0.120473 -0.039407   \n",
       "4  47475.027  35889.410  2053.871 -0.247  84  66  52 -0.020780  0.106085   \n",
       "\n",
       "         nz  \n",
       "0  0.996873  \n",
       "1  0.994324  \n",
       "2  0.994014  \n",
       "3  0.991934  \n",
       "4  0.994140  "
      ]
     },
     "execution_count": 4,
     "metadata": {},
     "output_type": "execute_result"
    }
   ],
   "source": [
    "def import_points(filepath):\n",
    "    file = pd.read_csv(filepath, skiprows=1, names=[\"x\", \"y\", \"z\", \"m3c2\", \"r\", \"g\", \"b\", \"nx\", \"ny\", \"nz\"])\n",
    "    file = file[np.abs(file[\"m3c2\"] - file[\"m3c2\"].mean()) <= (3 * file[\"m3c2\"].std())]\n",
    "    \n",
    "    return file\n",
    "\n",
    "years = [1997, 2004, 2014, 2017]\n",
    "files = [import_points(f\"input/errors/{name} Peri.txt\") for name in [\"Syd97\", \"Syd04\", \"Syd14\"]]\n",
    "\n",
    "\n",
    "files[0].head()"
   ]
  },
  {
   "cell_type": "markdown",
   "metadata": {},
   "source": [
    "## 1.1 Error measures"
   ]
  },
  {
   "cell_type": "code",
   "execution_count": 5,
   "metadata": {},
   "outputs": [
    {
     "data": {
      "text/html": [
       "<div>\n",
       "<style scoped>\n",
       "    .dataframe tbody tr th:only-of-type {\n",
       "        vertical-align: middle;\n",
       "    }\n",
       "\n",
       "    .dataframe tbody tr th {\n",
       "        vertical-align: top;\n",
       "    }\n",
       "\n",
       "    .dataframe thead th {\n",
       "        text-align: right;\n",
       "    }\n",
       "</style>\n",
       "<table border=\"1\" class=\"dataframe\">\n",
       "  <thead>\n",
       "    <tr style=\"text-align: right;\">\n",
       "      <th></th>\n",
       "      <th>mean</th>\n",
       "      <th>std</th>\n",
       "      <th>mae</th>\n",
       "    </tr>\n",
       "  </thead>\n",
       "  <tbody>\n",
       "    <tr>\n",
       "      <th>1997</th>\n",
       "      <td>0.18</td>\n",
       "      <td>0.70</td>\n",
       "      <td>0.59</td>\n",
       "    </tr>\n",
       "    <tr>\n",
       "      <th>2004</th>\n",
       "      <td>0.32</td>\n",
       "      <td>0.85</td>\n",
       "      <td>0.68</td>\n",
       "    </tr>\n",
       "    <tr>\n",
       "      <th>2014</th>\n",
       "      <td>-0.22</td>\n",
       "      <td>0.40</td>\n",
       "      <td>0.28</td>\n",
       "    </tr>\n",
       "  </tbody>\n",
       "</table>\n",
       "</div>"
      ],
      "text/plain": [
       "      mean   std   mae\n",
       "1997  0.18  0.70  0.59\n",
       "2004  0.32  0.85  0.68\n",
       "2014 -0.22  0.40  0.28"
      ]
     },
     "execution_count": 5,
     "metadata": {},
     "output_type": "execute_result"
    }
   ],
   "source": [
    "columns = [\"mean\", \"std\", \"mae\"]\n",
    "errors = pd.DataFrame(columns=columns)\n",
    "\n",
    "years = [1997, 2004, 2014, 2017]\n",
    "for year, file in enumerate(files):\n",
    "    mean = file[\"m3c2\"].mean()\n",
    "    std = file[\"m3c2\"].std()\n",
    "    mae = file[\"m3c2\"].abs().mean()\n",
    "    \n",
    "    errors.loc[years[year], columns] = mean, std, mae\n",
    "\n",
    "def rounded(decimal=2):\n",
    "    return errors.applymap(lambda x: round(x, decimal))\n",
    "\n",
    "rounded()"
   ]
  },
  {
   "cell_type": "markdown",
   "metadata": {},
   "source": [
    "## 1.2 Error histograms"
   ]
  },
  {
   "cell_type": "code",
   "execution_count": 6,
   "metadata": {},
   "outputs": [
    {
     "name": "stdout",
     "output_type": "stream",
     "text": [
      "Saved errors_180302.png\n"
     ]
    },
    {
     "data": {
      "image/png": "[encoded data removed]",
      "text/plain": [
       "<matplotlib.figure.Figure at 0x1ce79a6fc50>"
      ]
     },
     "metadata": {},
     "output_type": "display_data"
    }
   ],
   "source": [
    "plt.figure(figsize=(15, 5))\n",
    "\n",
    "for i, v in enumerate(files):\n",
    "    ax = plt.subplot(1, 3, i + 1)\n",
    "\n",
    "    # Histogram\n",
    "    cm = plt.cm.get_cmap(\"RdYlBu_r\")  # Colormap\n",
    "    \n",
    "    x_min = -3\n",
    "    x_max = 3\n",
    "    n_bins = np.linspace(-3, 3, 50)  # Number of bins between interval\n",
    "    plt.xlim((-3, 3))\n",
    "    \n",
    "    \n",
    "    plt.hist(v[\"m3c2\"], edgecolor=\"black\", bins=n_bins, density=True, color=(0.95,) * 3, histtype=\"stepfilled\")\n",
    "    n, bins, patches = plt.hist(v[\"m3c2\"], bins=n_bins, density=True)\n",
    "\n",
    "    # Calculate bins to fill with color\n",
    "    bin_centers = 0.5 * (bins[:-1] + bins[1:])    \n",
    "    col = bin_centers / 3 + 0.5\n",
    "    \n",
    "    # Fill bins\n",
    "    for c, p in zip(col, patches):  \n",
    "        plt.setp(p, \"facecolor\", cm(c)[:-1] + (0.4,))\n",
    "        \n",
    "    mean, std, mae = rounded().loc[years[i]]  # Error measures\n",
    "    \n",
    "    # Gaussian distribution from mean and std\n",
    "    x_axis = np.arange(-10, 10, 0.0001)\n",
    "    plt.plot(x_axis, norm.pdf(x_axis, mean, std), linestyle=\"--\", c=\"k\", lw=1, alpha=0.8)\n",
    "    \n",
    "    # Text and names\n",
    "    stats = f\"Mean: {round(mean, 2)} m\\nSigma: {round(std, 2)} m\\nMAE = {round(mae, 2)} m\"\n",
    "    plt.text(0.05, 0.9, stats, horizontalalignment=\"left\", verticalalignment=\"center\", transform=ax.transAxes)\n",
    "    plt.title(years[i], loc=\"center\")\n",
    "    \n",
    "    if i == 1:\n",
    "        plt.xlabel(\"Error [m]\", fontsize=12)\n",
    "    \n",
    "\n",
    "savefig(\"errors\")"
   ]
  },
  {
   "cell_type": "markdown",
   "metadata": {},
   "source": [
    "# 2 Mass balance"
   ]
  },
  {
   "cell_type": "code",
   "execution_count": 7,
   "metadata": {},
   "outputs": [
    {
     "data": {
      "text/plain": [
       "year\n",
       "1947-01-01    2115.0\n",
       "1948-01-01       NaN\n",
       "1949-01-01       NaN\n",
       "1950-01-01       NaN\n",
       "1951-01-01    2119.0\n",
       "Name: elevation, dtype: float64"
      ]
     },
     "execution_count": 7,
     "metadata": {},
     "output_type": "execute_result"
    }
   ],
   "source": [
    "heights = pd.read_csv(\"input/elevation_profile/sydtoppen.csv\", sep=\";\", squeeze=True, index_col=0, parse_dates=True)\n",
    "heights.head()"
   ]
  },
  {
   "cell_type": "code",
   "execution_count": 8,
   "metadata": {},
   "outputs": [
    {
     "data": {
      "text/html": [
       "<div>\n",
       "<style scoped>\n",
       "    .dataframe tbody tr th:only-of-type {\n",
       "        vertical-align: middle;\n",
       "    }\n",
       "\n",
       "    .dataframe tbody tr th {\n",
       "        vertical-align: top;\n",
       "    }\n",
       "\n",
       "    .dataframe thead th {\n",
       "        text-align: right;\n",
       "    }\n",
       "</style>\n",
       "<table border=\"1\" class=\"dataframe\">\n",
       "  <thead>\n",
       "    <tr style=\"text-align: right;\">\n",
       "      <th></th>\n",
       "      <th>nb</th>\n",
       "      <th>cumul</th>\n",
       "    </tr>\n",
       "    <tr>\n",
       "      <th>year</th>\n",
       "      <th></th>\n",
       "      <th></th>\n",
       "    </tr>\n",
       "  </thead>\n",
       "  <tbody>\n",
       "    <tr>\n",
       "      <th>1946-01-01</th>\n",
       "      <td>-3.729</td>\n",
       "      <td>-51.269</td>\n",
       "    </tr>\n",
       "    <tr>\n",
       "      <th>1947-01-01</th>\n",
       "      <td>-6.831</td>\n",
       "      <td>-58.100</td>\n",
       "    </tr>\n",
       "    <tr>\n",
       "      <th>1948-01-01</th>\n",
       "      <td>0.000</td>\n",
       "      <td>-58.100</td>\n",
       "    </tr>\n",
       "    <tr>\n",
       "      <th>1949-01-01</th>\n",
       "      <td>3.003</td>\n",
       "      <td>-55.097</td>\n",
       "    </tr>\n",
       "    <tr>\n",
       "      <th>1950-01-01</th>\n",
       "      <td>-4.257</td>\n",
       "      <td>-59.354</td>\n",
       "    </tr>\n",
       "  </tbody>\n",
       "</table>\n",
       "</div>"
      ],
      "text/plain": [
       "               nb   cumul\n",
       "year                     \n",
       "1946-01-01 -3.729 -51.269\n",
       "1947-01-01 -6.831 -58.100\n",
       "1948-01-01  0.000 -58.100\n",
       "1949-01-01  3.003 -55.097\n",
       "1950-01-01 -4.257 -59.354"
      ]
     },
     "execution_count": 8,
     "metadata": {},
     "output_type": "execute_result"
    }
   ],
   "source": [
    "balance = pd.read_csv(\"input/elevation_profile/mass_balance.csv\", sep=\";\", index_col=0, parse_dates=True)\n",
    "balance = balance.applymap(lambda x: float(x.replace(\",\", \".\")))\n",
    "\n",
    "balance.head()"
   ]
  },
  {
   "cell_type": "code",
   "execution_count": 9,
   "metadata": {},
   "outputs": [
    {
     "name": "stdout",
     "output_type": "stream",
     "text": [
      "Saved mass_balance_180302.png\n"
     ]
    },
    {
     "data": {
      "image/png": "[encoded data removed]",
      "text/plain": [
       "<matplotlib.figure.Figure at 0x1ce79e14da0>"
      ]
     },
     "metadata": {},
     "output_type": "display_data"
    }
   ],
   "source": [
    "plt.figure(figsize=(10, 4))\n",
    "\n",
    "# Elevation plotting\n",
    "plt.scatter(heights.index, heights, s=40)\n",
    "plt.plot(heights.dropna())\n",
    "\n",
    "plt.ylabel(\"Elevation [m a.s.l]\")\n",
    "\n",
    "# Mass balance plotting\n",
    "plt.gca().twinx()\n",
    "a_years = 5  # Rolling window A (solid line)\n",
    "b_years = 0  # Rolling window B (dashed line)\n",
    "\n",
    "# Full line \n",
    "styles = [\"-\", \":\"]\n",
    "for i, window in enumerate([a_years, b_years]):\n",
    "    averaged = balance[\"nb\"].rolling(window).mean()\n",
    "    \n",
    "    plt.plot(averaged, c=\"red\", alpha=0.8, label=f\"{window} years\", linestyle=styles[i])\n",
    "\n",
    "\n",
    "plt.legend()\n",
    "plt.xlim((\"1945\", \"2017\"))\n",
    "\n",
    "plt.ylabel(\"Mass balance [m]\")\n",
    "\n",
    "savefig(\"mass_balance\")"
   ]
  },
  {
   "cell_type": "markdown",
   "metadata": {},
   "source": [
    "# Peak variation"
   ]
  },
  {
   "cell_type": "code",
   "execution_count": 112,
   "metadata": {},
   "outputs": [
    {
     "data": {
      "text/plain": [
       "year\n",
       "1946    (0.050383, 0.029803, 0.527975, 1.0)\n",
       "1959    (0.387183, 0.001434, 0.654177, 1.0)\n",
       "1980    (0.775796, 0.253658, 0.491171, 1.0)\n",
       "1997     (0.957469, 0.53825, 0.282096, 1.0)\n",
       "2004    (0.991985, 0.681179, 0.195295, 1.0)\n",
       "2014      (0.964021, 0.90795, 0.14937, 1.0)\n",
       "2017    (0.940015, 0.975158, 0.131326, 1.0)\n",
       "Name: color, dtype: object"
      ]
     },
     "execution_count": 112,
     "metadata": {},
     "output_type": "execute_result"
    },
    {
     "data": {
      "image/png": "[encoded data removed]",
      "text/plain": [
       "<matplotlib.figure.Figure at 0x1ce00aba518>"
      ]
     },
     "metadata": {},
     "output_type": "display_data"
    }
   ],
   "source": [
    "pos = pd.read_csv(\"input/syd_properties/peak_positions.csv\", index_col=0, parse_dates=False)\n",
    "\n",
    "pos[[\"easting\", \"northing\"]] = pos[[\"easting\", \"northing\"]].apply(lambda x: x - x.mean())\n",
    "\n",
    "cm = plt.cm.get_cmap(\"plasma\")  # Colormap\n",
    "\n",
    "\n",
    "pos[\"color\"] = [cm((year - pos.index.min()) / (pos.index.max() - pos.index.min())) for year in pos.index]\n",
    "\n",
    "plt.figure(figsize=(4, 4))\n",
    "\n",
    "plt.plot(pos.easting, pos.northing, c=\"k\", zorder=1, label=\"__none__\")\n",
    "for year, row in pos.iterrows():\n",
    "    plt.scatter(row.easting, row.northing, c=row.color, edgecolors=\"k\", label=year, zorder=2)\n",
    "\n",
    "plt.legend()\n",
    "plt.axis((-26, 16, -15, 25))\n",
    "plt.xticks([0, 10])\n",
    "plt.yticks([])\n",
    "\n",
    "pos[\"color\"]"
   ]
  }
 ],
 "metadata": {
  "kernelspec": {
   "display_name": "Python 3",
   "language": "python",
   "name": "python3"
  },
  "language_info": {
   "codemirror_mode": {
    "name": "ipython",
    "version": 3
   },
   "file_extension": ".py",
   "mimetype": "text/x-python",
   "name": "python",
   "nbconvert_exporter": "python",
   "pygments_lexer": "ipython3",
   "version": "3.6.4"
  }
 },
 "nbformat": 4,
 "nbformat_minor": 2
}
