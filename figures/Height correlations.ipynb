{
 "cells": [
  {
   "cell_type": "code",
   "execution_count": 1,
   "metadata": {},
   "outputs": [],
   "source": [
    "import pandas as pd\n",
    "import matplotlib.pyplot as plt\n",
    "import numpy as np\n",
    "import seaborn as sns\n",
    "\n",
    "%matplotlib inline\n",
    "plt.rcParams['figure.dpi'] = 150"
   ]
  },
  {
   "cell_type": "code",
   "execution_count": 2,
   "metadata": {},
   "outputs": [],
   "source": [
    "mb = pd.read_csv(\"input/elevation_profile/mass_balance.csv\", sep=\";\", parse_dates=[\"year\"], index_col=\"year\")\n",
    "mb = mb.applymap(lambda x: float(x.replace(\",\", \".\")))"
   ]
  },
  {
   "cell_type": "code",
   "execution_count": 3,
   "metadata": {},
   "outputs": [
    {
     "data": {
      "text/html": [
       "<div>\n",
       "<style scoped>\n",
       "    .dataframe tbody tr th:only-of-type {\n",
       "        vertical-align: middle;\n",
       "    }\n",
       "\n",
       "    .dataframe tbody tr th {\n",
       "        vertical-align: top;\n",
       "    }\n",
       "\n",
       "    .dataframe thead th {\n",
       "        text-align: right;\n",
       "    }\n",
       "</style>\n",
       "<table border=\"1\" class=\"dataframe\">\n",
       "  <thead>\n",
       "    <tr style=\"text-align: right;\">\n",
       "      <th></th>\n",
       "      <th>nb</th>\n",
       "      <th>cumul</th>\n",
       "    </tr>\n",
       "    <tr>\n",
       "      <th>year</th>\n",
       "      <th></th>\n",
       "      <th></th>\n",
       "    </tr>\n",
       "  </thead>\n",
       "  <tbody>\n",
       "    <tr>\n",
       "      <th>1946-01-01</th>\n",
       "      <td>-3.729</td>\n",
       "      <td>-51.269</td>\n",
       "    </tr>\n",
       "    <tr>\n",
       "      <th>1947-01-01</th>\n",
       "      <td>-6.831</td>\n",
       "      <td>-58.100</td>\n",
       "    </tr>\n",
       "    <tr>\n",
       "      <th>1948-01-01</th>\n",
       "      <td>0.000</td>\n",
       "      <td>-58.100</td>\n",
       "    </tr>\n",
       "    <tr>\n",
       "      <th>1949-01-01</th>\n",
       "      <td>3.003</td>\n",
       "      <td>-55.097</td>\n",
       "    </tr>\n",
       "    <tr>\n",
       "      <th>1950-01-01</th>\n",
       "      <td>-4.257</td>\n",
       "      <td>-59.354</td>\n",
       "    </tr>\n",
       "  </tbody>\n",
       "</table>\n",
       "</div>"
      ],
      "text/plain": [
       "               nb   cumul\n",
       "year                     \n",
       "1946-01-01 -3.729 -51.269\n",
       "1947-01-01 -6.831 -58.100\n",
       "1948-01-01  0.000 -58.100\n",
       "1949-01-01  3.003 -55.097\n",
       "1950-01-01 -4.257 -59.354"
      ]
     },
     "execution_count": 3,
     "metadata": {},
     "output_type": "execute_result"
    }
   ],
   "source": [
    "mb.head(5)"
   ]
  },
  {
   "cell_type": "code",
   "execution_count": 4,
   "metadata": {},
   "outputs": [
    {
     "data": {
      "text/plain": [
       "[<matplotlib.lines.Line2D at 0x2be5df617f0>]"
      ]
     },
     "execution_count": 4,
     "metadata": {},
     "output_type": "execute_result"
    },
    {
     "data": {
      "image/png": "[encoded data removed]",
      "text/plain": [
       "<matplotlib.figure.Figure at 0x2be5df61048>"
      ]
     },
     "metadata": {},
     "output_type": "display_data"
    }
   ],
   "source": [
    "elev = pd.read_csv(\"input/elevation_profile/sydtoppen.csv\", sep=\";\", parse_dates=[\"year\"], index_col=\"year\", names=[\"year\", \"elev\"], skiprows=1)\n",
    "\n",
    "\n",
    "#elev = elev.resample(\"AS\").interpolate(method=\"quadratic\")\n",
    "\n",
    "plt.scatter(elev.index, elev[\"elev\"])\n",
    "plt.plot(elev.index, elev[\"elev\"])\n"
   ]
  },
  {
   "cell_type": "code",
   "execution_count": 8,
   "metadata": {},
   "outputs": [
    {
     "data": {
      "text/html": [
       "<div>\n",
       "<style scoped>\n",
       "    .dataframe tbody tr th:only-of-type {\n",
       "        vertical-align: middle;\n",
       "    }\n",
       "\n",
       "    .dataframe tbody tr th {\n",
       "        vertical-align: top;\n",
       "    }\n",
       "\n",
       "    .dataframe thead th {\n",
       "        text-align: right;\n",
       "    }\n",
       "</style>\n",
       "<table border=\"1\" class=\"dataframe\">\n",
       "  <thead>\n",
       "    <tr style=\"text-align: right;\">\n",
       "      <th></th>\n",
       "      <th>x</th>\n",
       "      <th>y</th>\n",
       "      <th>r</th>\n",
       "    </tr>\n",
       "  </thead>\n",
       "  <tbody>\n",
       "    <tr>\n",
       "      <th>65</th>\n",
       "      <td>0</td>\n",
       "      <td>5</td>\n",
       "      <td>0.760793</td>\n",
       "    </tr>\n",
       "    <tr>\n",
       "      <th>59</th>\n",
       "      <td>-1</td>\n",
       "      <td>5</td>\n",
       "      <td>0.753961</td>\n",
       "    </tr>\n",
       "    <tr>\n",
       "      <th>64</th>\n",
       "      <td>0</td>\n",
       "      <td>4</td>\n",
       "      <td>0.753178</td>\n",
       "    </tr>\n",
       "    <tr>\n",
       "      <th>58</th>\n",
       "      <td>-1</td>\n",
       "      <td>4</td>\n",
       "      <td>0.747678</td>\n",
       "    </tr>\n",
       "    <tr>\n",
       "      <th>52</th>\n",
       "      <td>-2</td>\n",
       "      <td>4</td>\n",
       "      <td>0.736974</td>\n",
       "    </tr>\n",
       "    <tr>\n",
       "      <th>57</th>\n",
       "      <td>-1</td>\n",
       "      <td>3</td>\n",
       "      <td>0.728583</td>\n",
       "    </tr>\n",
       "    <tr>\n",
       "      <th>53</th>\n",
       "      <td>-2</td>\n",
       "      <td>5</td>\n",
       "      <td>0.723463</td>\n",
       "    </tr>\n",
       "    <tr>\n",
       "      <th>51</th>\n",
       "      <td>-2</td>\n",
       "      <td>3</td>\n",
       "      <td>0.720589</td>\n",
       "    </tr>\n",
       "    <tr>\n",
       "      <th>71</th>\n",
       "      <td>1</td>\n",
       "      <td>5</td>\n",
       "      <td>0.70453</td>\n",
       "    </tr>\n",
       "    <tr>\n",
       "      <th>46</th>\n",
       "      <td>-3</td>\n",
       "      <td>4</td>\n",
       "      <td>0.673099</td>\n",
       "    </tr>\n",
       "  </tbody>\n",
       "</table>\n",
       "</div>"
      ],
      "text/plain": [
       "     x  y         r\n",
       "65   0  5  0.760793\n",
       "59  -1  5  0.753961\n",
       "64   0  4  0.753178\n",
       "58  -1  4  0.747678\n",
       "52  -2  4  0.736974\n",
       "57  -1  3  0.728583\n",
       "53  -2  5  0.723463\n",
       "51  -2  3  0.720589\n",
       "71   1  5   0.70453\n",
       "46  -3  4  0.673099"
      ]
     },
     "execution_count": 8,
     "metadata": {},
     "output_type": "execute_result"
    },
    {
     "data": {
      "image/png": "[encoded data removed]",
      "text/plain": [
       "<matplotlib.figure.Figure at 0x2be600a8c50>"
      ]
     },
     "metadata": {},
     "output_type": "display_data"
    }
   ],
   "source": [
    "test = mb.join(elev)\n",
    "test[\"diff\"] = test[\"elev\"].diff(1)\n",
    "\n",
    "test = test.loc[\"1975\":]\n",
    "\n",
    "result = pd.DataFrame(columns=[\"x\", \"y\", \"r\"])\n",
    "count = 0\n",
    "for x in np.arange(-10, 10):\n",
    "    for y in np.arange(0, 6):\n",
    "        \n",
    "        rol_mb = mb.rolling(y).mean()\n",
    "        test[\"shifted\"] = test[\"elev\"].shift(x)\n",
    "        \n",
    "        # Correlation between net balance and shifted altitude\n",
    "        corr = rol_mb[\"nb\"].corr(test[\"shifted\"])\n",
    "        \n",
    "        # Save result\n",
    "        result.loc[count, [\"x\", \"y\", \"r\"]] = x, y, corr\n",
    "        \n",
    "        # Graph\n",
    "        if x == 0 and y == 5:\n",
    "\n",
    "            joined = rol_mb.join(test[\"shifted\"]).dropna(how=\"any\")\n",
    "        \n",
    "            #plt.scatter(joined[\"nb\"], joined[\"shifted\"], c=joined.index, s=15)\n",
    "            sns.regplot(\"nb\", \"shifted\", data=joined)\n",
    "            \n",
    "            for i, yr in enumerate(joined.index):\n",
    "                coord = tuple(joined.iloc[i, [0, 2]])\n",
    "                #plt.annotate(yr.year, coord, fontsize=6, ha=\"center\", va=\"center\")           \n",
    "        \n",
    "        \n",
    "            \n",
    "        count += 1\n",
    "\n",
    "plt.ylabel(\"Peak elevation [m a.s.l.]\")\n",
    "plt.xlabel(\"Net balance [m w.e.]\")\n",
    "\n",
    "\n",
    "plt.savefig(\"export/correlation_180510.png\", dpi=300)\n",
    "\n",
    "result.sort_values(\"r\", ascending=False).head(10)"
   ]
  },
  {
   "cell_type": "code",
   "execution_count": 16,
   "metadata": {},
   "outputs": [
    {
     "name": "stderr",
     "output_type": "stream",
     "text": [
      "D:\\Program\\Anaconda3\\lib\\site-packages\\numpy\\lib\\function_base.py:3175: RuntimeWarning: Degrees of freedom <= 0 for slice\n",
      "  c = cov(x, y, rowvar)\n",
      "D:\\Program\\Anaconda3\\lib\\site-packages\\numpy\\lib\\function_base.py:3109: RuntimeWarning: divide by zero encountered in double_scalars\n",
      "  c *= 1. / np.float64(fact)\n"
     ]
    },
    {
     "name": "stdout",
     "output_type": "stream",
     "text": [
      "1960-01-01    0.139878\n",
      "1961-01-01    0.139878\n",
      "1962-01-01    0.139878\n",
      "1963-01-01    0.139878\n",
      "1964-01-01    0.139878\n",
      "1965-01-01    0.139878\n",
      "1966-01-01    0.139878\n",
      "1967-01-01    0.139878\n",
      "1968-01-01    0.659301\n",
      "1969-01-01    0.690960\n",
      "1970-01-01    0.712063\n",
      "1971-01-01    0.696112\n",
      "1972-01-01    0.736428\n",
      "1973-01-01    0.755756\n",
      "1974-01-01    0.735482\n",
      "1975-01-01    0.643901\n",
      "1976-01-01    0.690414\n",
      "1977-01-01    0.707362\n",
      "1978-01-01    0.746879\n",
      "1979-01-01    0.703456\n",
      "1980-01-01    0.620945\n",
      "dtype: float64\n"
     ]
    },
    {
     "data": {
      "image/png": "[encoded data removed]",
      "text/plain": [
       "<matplotlib.figure.Figure at 0x2be60479b70>"
      ]
     },
     "metadata": {},
     "output_type": "display_data"
    }
   ],
   "source": [
    "data = mb.join(elev)\n",
    "\n",
    "data[\"rol\"] = data[\"nb\"].rolling(5).mean()\n",
    "\n",
    "\n",
    "result = {}\n",
    "for i in data.index:\n",
    "    \n",
    "    if i == data.index.max() or i == data.index.min():\n",
    "        continue\n",
    "    test = data.loc[:i]\n",
    "    \n",
    "    corr = test[\"rol\"].corr(test[\"elev\"])\n",
    "    \n",
    "    result[i] = corr\n",
    "\n",
    "result = pd.Series(result)\n",
    "\n",
    "print(result.loc[\"1960\":\"1980\"])\n",
    "result.plot(lw=4)\n",
    "\n",
    "plt.ylabel(\"Pearson Correlation (r)\")\n",
    "plt.ylim((0, 1))\n",
    "\n",
    "plt.savefig(\"export/pearson_180503.png\", dpi=300)\n"
   ]
  },
  {
   "cell_type": "code",
   "execution_count": 14,
   "metadata": {},
   "outputs": [
    {
     "data": {
      "text/plain": [
       "0.09860993716672205"
      ]
     },
     "execution_count": 14,
     "metadata": {},
     "output_type": "execute_result"
    },
    {
     "data": {
      "image/png": "[encoded data removed]",
      "text/plain": [
       "<matplotlib.figure.Figure at 0x2be6030df60>"
      ]
     },
     "metadata": {},
     "output_type": "display_data"
    }
   ],
   "source": [
    "dat = data.dropna()\n",
    "plt.scatter(dat[\"nb\"], dat[\"elev\"])\n",
    "dat[\"nb\"].corr(dat[\"elev\"])"
   ]
  }
 ],
 "metadata": {
  "kernelspec": {
   "display_name": "Python 3",
   "language": "python",
   "name": "python3"
  },
  "language_info": {
   "codemirror_mode": {
    "name": "ipython",
    "version": 3
   },
   "file_extension": ".py",
   "mimetype": "text/x-python",
   "name": "python",
   "nbconvert_exporter": "python",
   "pygments_lexer": "ipython3",
   "version": "3.6.4"
  }
 },
 "nbformat": 4,
 "nbformat_minor": 2
}
